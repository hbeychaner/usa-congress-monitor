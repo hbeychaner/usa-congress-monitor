{
 "cells": [
  {
   "cell_type": "code",
   "execution_count": 5,
   "metadata": {},
   "outputs": [],
   "source": [
    "from src.data_collection.data_collection import (CDGClient, API_VERSION, ROOT_URL, RESPONSE_FORMAT, \n",
    "                                                 RESULT_LIMIT, RATE_LIMIT_CONSTANT, gather_congressional_records)\n",
    "from src.data_structures.bills import (\n",
    "    Format,\n",
    "    BehalfType,\n",
    "    AmendmentType,\n",
    "    TextVersion,\n",
    "    PolicyArea,\n",
    "    LegislativeSubject,\n",
    "    Chamber,\n",
    "    LawType,\n",
    "    LatestAction,\n",
    "    Note,\n",
    "    Summary,\n",
    "    SourceSystem,\n",
    "    ActionSourceSystem,\n",
    "    Activity,\n",
    "    IdentifyingEntity,\n",
    "    RelationshipDetail,\n",
    "    CountUrl,\n",
    "    Title,\n",
    "    ChamberCode,\n",
    "    BillType,\n",
    "    Member,\n",
    "    Sponsor,\n",
    "    LawMetadata,\n",
    "    Law,\n",
    "    CommitteeMetadata,\n",
    "    RecordedVote,\n",
    "    Action,\n",
    "    AmendmentMetadata,\n",
    "    Treaty,\n",
    "    Amendment,\n",
    "    BillMetadata,\n",
    "    Subjects,\n",
    "    Bill\n",
    ")\n",
    "\n",
    "from src.data_structures.congressional_records import (BoundCongressionalRecord, CongressionalDigest, CongressionalPDFLink, CongressionalPDFLink, CongressionalRecordLinkCollection)\n",
    "\n",
    "load = False\n",
    "if load:\n",
    "    import os \n",
    "    import json \n",
    "    import pickle\n",
    "\n",
    "    bills_file = [x for x in os.listdir() if 'bills_2025' in x][0]\n",
    "    additional_data_file = [x for x in os.listdir() if 'additional_data' in x][0]\n",
    "\n",
    "    with open(bills_file, 'r') as f:\n",
    "        bills = json.load(f)\n",
    "\n",
    "    with open(additional_data_file, 'r') as f:\n",
    "        additional_data = json.load(f)\n",
    "\n",
    "    def save_records(records, filename):\n",
    "        with open(filename, 'w') as f:\n",
    "            json.dump(records, f)\n",
    "\n",
    "    def load_records(filename):\n",
    "        with open(filename, 'r') as f:\n",
    "            return json.load(f)\n",
    "        \n",
    "    records = load_records('congressional_records.json')\n",
    "    \n",
    "    def pickle_data(data, filename):\n",
    "        with open(filename, 'wb') as f:\n",
    "            pickle.dump(data, f)\n",
    "\n",
    "    def unpickle_data(filename):\n",
    "        with open(filename, 'rb') as f:\n",
    "            return pickle.load(f)\n",
    "\n",
    "    parsed_records = unpickle_data('records_parsed.pkl')"
   ]
  },
  {
   "cell_type": "code",
   "execution_count": 6,
   "metadata": {},
   "outputs": [],
   "source": [
    "import os \n",
    "client = CDGClient(api_key=os.environ[\"CONGRESS_API_KEY\"], response_format=RESPONSE_FORMAT)"
   ]
  },
  {
   "cell_type": "code",
   "execution_count": null,
   "metadata": {},
   "outputs": [
    {
     "name": "stderr",
     "output_type": "stream",
     "text": [
      "100%|██████████| 119/119 [00:39<00:00,  3.03it/s]\n"
     ]
    }
   ],
   "source": [
    "client.get(\"congress/current\")\n",
    "from tqdm import tqdm\n",
    "\n",
    "def gather_congresses(client: CDGClient) -> list:\n",
    "    congresses = []\n",
    "    current_congress_id = client.get(\"congress/current\")[\"congress\"][\"number\"]\n",
    "    for i in tqdm(range(1, current_congress_id+1)): \n",
    "        congresses.append(client.get(f\"congress/{i}\")[\"congress\"])\n",
    "    return congresses\n",
    "\n",
    "congresses = gather_congresses(client)\n"
   ]
  },
  {
   "cell_type": "code",
   "execution_count": 4,
   "metadata": {},
   "outputs": [
    {
     "ename": "NameError",
     "evalue": "name 'congresses' is not defined",
     "output_type": "error",
     "traceback": [
      "\u001b[0;31m---------------------------------------------------------------------------\u001b[0m",
      "\u001b[0;31mNameError\u001b[0m                                 Traceback (most recent call last)",
      "Cell \u001b[0;32mIn[4], line 2\u001b[0m\n\u001b[1;32m      1\u001b[0m \u001b[38;5;28;01mfrom\u001b[39;00m\u001b[38;5;250m \u001b[39m\u001b[38;5;21;01msrc\u001b[39;00m\u001b[38;5;21;01m.\u001b[39;00m\u001b[38;5;21;01mdata_structures\u001b[39;00m\u001b[38;5;21;01m.\u001b[39;00m\u001b[38;5;21;01mpeople\u001b[39;00m\u001b[38;5;250m \u001b[39m\u001b[38;5;28;01mimport\u001b[39;00m Congress\n\u001b[0;32m----> 2\u001b[0m parsed_congresses \u001b[38;5;241m=\u001b[39m [Congress(\u001b[38;5;241m*\u001b[39m\u001b[38;5;241m*\u001b[39mr) \u001b[38;5;28;01mfor\u001b[39;00m r \u001b[38;5;129;01min\u001b[39;00m \u001b[43mcongresses\u001b[49m]\n",
      "\u001b[0;31mNameError\u001b[0m: name 'congresses' is not defined"
     ]
    }
   ],
   "source": [
    "from src.data_structures.people import Congress\n",
    "parsed_congresses = [Congress(**r) for r in congresses]"
   ]
  },
  {
   "cell_type": "code",
   "execution_count": null,
   "metadata": {},
   "outputs": [],
   "source": []
  }
 ],
 "metadata": {
  "kernelspec": {
   "display_name": ".venv",
   "language": "python",
   "name": "python3"
  },
  "language_info": {
   "codemirror_mode": {
    "name": "ipython",
    "version": 3
   },
   "file_extension": ".py",
   "mimetype": "text/x-python",
   "name": "python",
   "nbconvert_exporter": "python",
   "pygments_lexer": "ipython3",
   "version": "3.13.2"
  }
 },
 "nbformat": 4,
 "nbformat_minor": 2
}
