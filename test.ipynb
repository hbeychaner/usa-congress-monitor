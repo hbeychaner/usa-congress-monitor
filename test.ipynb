{
 "cells": [
  {
   "cell_type": "code",
   "execution_count": null,
   "metadata": {},
   "outputs": [],
   "source": [
    "from src.data_collection.data_collection import (CDGClient, API_VERSION, ROOT_URL, RESPONSE_FORMAT, \n",
    "                                                 RESULT_LIMIT, RATE_LIMIT_CONSTANT, gather_congressional_records)\n",
    "from src.data_structures.bills import (\n",
    "    Format,\n",
    "    BehalfType,\n",
    "    AmendmentType,\n",
    "    TextVersion,\n",
    "    PolicyArea,\n",
    "    LegislativeSubject,\n",
    "    Chamber,\n",
    "    LawType,\n",
    "    LatestAction,\n",
    "    Note,\n",
    "    Summary,\n",
    "    CommitteeMetadata,\n",
    "    SourceSystem,\n",
    "    ActionSourceSystem,\n",
    "    Activity,\n",
    "    IdentifyingEntity,\n",
    "    RelationshipDetail,\n",
    "    CountUrl,\n",
    "    Title,\n",
    "    ChamberCode,\n",
    "    BillType,\n",
    "    Member,\n",
    "    Sponsor,\n",
    "    LawMetadata,\n",
    "    Law,\n",
    "    Committee,\n",
    "    RecordedVote,\n",
    "    Action,\n",
    "    AmendmentMetadata,\n",
    "    Treaty,\n",
    "    Amendment,\n",
    "    BillMetadata,\n",
    "    Subjects,\n",
    "    Bill\n",
    ")\n",
    "\n",
    "import os \n",
    "import json \n",
    "\n",
    "bills_file = [x for x in os.listdir() if 'bills_2025' in x][0]\n",
    "additional_data_file = [x for x in os.listdir() if 'additional_data' in x][0]\n",
    "\n",
    "with open(bills_file, 'r') as f:\n",
    "    bills = json.load(f)\n",
    "\n",
    "with open(additional_data_file, 'r') as f:\n",
    "    additional_data = json.load(f)\n",
    "\n",
    "def save_records(records, filename):\n",
    "    with open(filename, 'w') as f:\n",
    "        json.dump(records, f)\n",
    "\n",
    "def load_records(filename):\n",
    "    with open(filename, 'r') as f:\n",
    "        return json.load(f)\n",
    "    \n",
    "records = load_records('congressional_records.json')\n",
    "\n",
    "import pickle\n",
    "def pickle_data(data, filename):\n",
    "    with open(filename, 'wb') as f:\n",
    "        pickle.dump(data, f)\n",
    "\n",
    "def unpickle_data(filename):\n",
    "    with open(filename, 'rb') as f:\n",
    "        return pickle.load(f)\n",
    "\n",
    "parsed_records = unpickle_data('records_parsed.pkl')"
   ]
  },
  {
   "cell_type": "code",
   "execution_count": 2,
   "metadata": {},
   "outputs": [],
   "source": [
    "import os \n",
    "client = CDGClient(api_key=os.environ[\"CONGRESS_API_KEY\"], response_format=RESPONSE_FORMAT)\n"
   ]
  },
  {
   "cell_type": "code",
   "execution_count": 6,
   "metadata": {},
   "outputs": [
    {
     "ename": "TypeError",
     "evalue": "CDGClient.get_members() got an unexpected keyword argument 'params'",
     "output_type": "error",
     "traceback": [
      "\u001b[0;31m---------------------------------------------------------------------------\u001b[0m",
      "\u001b[0;31mTypeError\u001b[0m                                 Traceback (most recent call last)",
      "Cell \u001b[0;32mIn[6], line 1\u001b[0m\n\u001b[0;32m----> 1\u001b[0m members \u001b[38;5;241m=\u001b[39m \u001b[43mclient\u001b[49m\u001b[38;5;241;43m.\u001b[39;49m\u001b[43mget_members\u001b[49m\u001b[43m(\u001b[49m\u001b[43mparams\u001b[49m\u001b[38;5;241;43m=\u001b[39;49m\u001b[43m{\u001b[49m\u001b[38;5;124;43m'\u001b[39;49m\u001b[38;5;124;43mlimit\u001b[39;49m\u001b[38;5;124;43m'\u001b[39;49m\u001b[43m:\u001b[49m\u001b[43m \u001b[49m\u001b[38;5;241;43m250\u001b[39;49m\u001b[43m}\u001b[49m\u001b[43m)\u001b[49m\n",
      "\u001b[0;31mTypeError\u001b[0m: CDGClient.get_members() got an unexpected keyword argument 'params'"
     ]
    }
   ],
   "source": [
    "members = client.get_members(params={'limit': 250})"
   ]
  },
  {
   "cell_type": "code",
   "execution_count": 5,
   "metadata": {},
   "outputs": [
    {
     "data": {
      "text/plain": [
       "3"
      ]
     },
     "execution_count": 5,
     "metadata": {},
     "output_type": "execute_result"
    }
   ],
   "source": [
    "len(members)"
   ]
  },
  {
   "cell_type": "code",
   "execution_count": null,
   "metadata": {},
   "outputs": [],
   "source": [
    "class Member(BaseModel):\n",
    "    bioguideId: str\n",
    "    depiction: Depiction\n",
    "    district: Optional[str]  # district can be None, so it's optional\n",
    "    name: str\n",
    "    partyName: str\n",
    "    state: str\n",
    "    terms: List[Term]\n",
    "    updateDate: str\n",
    "    url: HttpUrl"
   ]
  }
 ],
 "metadata": {
  "kernelspec": {
   "display_name": ".venv",
   "language": "python",
   "name": "python3"
  },
  "language_info": {
   "codemirror_mode": {
    "name": "ipython",
    "version": 3
   },
   "file_extension": ".py",
   "mimetype": "text/x-python",
   "name": "python",
   "nbconvert_exporter": "python",
   "pygments_lexer": "ipython3",
   "version": "3.13.2"
  }
 },
 "nbformat": 4,
 "nbformat_minor": 2
}
